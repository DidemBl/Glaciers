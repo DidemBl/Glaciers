{
 "cells": [
  {
   "cell_type": "code",
   "execution_count": null,
   "id": "4753ebb7-0ede-46cb-98c9-5c977522d523",
   "metadata": {},
   "outputs": [],
   "source": [
    "import pandas as pd\n",
    "import hvplot.pandas\n",
    "from pathlib import Path\n",
    "from sklearn.cluster import KMeans\n",
    "from sklearn.preprocessing import StandardScaler"
   ]
  },
  {
   "cell_type": "code",
   "execution_count": null,
   "id": "7d6febff-376b-43bb-81f9-24fa97112cd7",
   "metadata": {},
   "outputs": [],
   "source": [
    "#Connect to the database\n",
    "conn_string = \"host='localhost' dbname='glacier_data' user='postgres' password='REDACTED'\"\n",
    "#password has been removed for security reasons\n",
    "conn = psycopg2.connect(conn_string)\n",
    "print(\"Database opened successfully\")\n",
    "cursor = conn.cursor();\n",
    "query = 'select * from yourdatabase'\n",
    "cursor.execute(query)\n",
    "colnames = [desc[0] for desc in cursor.description]\n",
    "df = pd.DataFrame(cursor.fetchall(), columns=colnames)\n",
    "cursor.close()\n",
    "print('Database closed successfully!')"
   ]
  },
  {
   "cell_type": "code",
   "execution_count": null,
   "id": "5ab3919b-e543-4286-bfc8-74a278af6b3f",
   "metadata": {},
   "outputs": [],
   "source": [
    "raw_df = pd.read_csv(Path(\"../Data/UMLprep.csv\"))\n",
    "raw_df.head()"
   ]
  },
  {
   "cell_type": "code",
   "execution_count": null,
   "id": "0eaceddf-993d-4c9c-9f2d-e1f4a4328179",
   "metadata": {},
   "outputs": [],
   "source": [
    "raw_df = raw_df.dropna()\n",
    "# Use the StandardScaler module and fit_transform function to \n",
    "# scale all columns with numerical values\n",
    "raw_df_scaled = StandardScaler().fit_transform(raw_df[['Year','Monthly Average Mean Temperature (degF)', 'Monthly Total Precipitation (in)', 'Monthly Total Snowfall (in)', 'Area (mi^2)', 'Height (ft)', 'Length (ft)']])\n",
    "\n",
    "# Diplay the first three rows of the scaled data\n",
    "raw_df_scaled[0:3]"
   ]
  },
  {
   "cell_type": "code",
   "execution_count": null,
   "id": "dd22e9ad-9875-447c-b491-e71fe44483fa",
   "metadata": {},
   "outputs": [],
   "source": [
    "#computing intertia for all k values for use in elbow graphing\n",
    "inertia = []\n",
    "k = list(range(1, 11))\n",
    "for i in k:\n",
    "    k_model = KMeans(n_clusters=i, random_state=1)\n",
    "    k_model.fit(raw_df)\n",
    "    inertia.append(k_model.inertia_)\n",
    "elbow_data = {\"k\": k, \"inertia\": inertia}\n",
    "elbow_df = pd.DataFrame(elbow_data)\n",
    "elbow_df.head()"
   ]
  },
  {
   "cell_type": "code",
   "execution_count": null,
   "id": "61e46b96-c97f-413a-a7f9-bb585f15771f",
   "metadata": {},
   "outputs": [],
   "source": [
    "#plotting the elbow curve\n",
    "elbow_df.hvplot.line(\n",
    "    x=\"k\", \n",
    "    y=\"inertia\",\n",
    "    title=\"Elbow Curve\",\n",
    "    xticks=k\n",
    ")"
   ]
  },
  {
   "cell_type": "code",
   "execution_count": null,
   "id": "d278d6a3-0bb9-483b-8e38-63a4e1916c83",
   "metadata": {},
   "outputs": [],
   "source": [
    "# Define the model with the lower value of k clusters\n",
    "# Use a random_state of 1 to generate the model\n",
    "model = KMeans(n_clusters=4, random_state=1)\n",
    "# Fit the model\n",
    "model.fit(raw_df)\n",
    "# Make predictions\n",
    "predict = model.predict(raw_df)\n",
    "# Create a copy of the DataFrame and name it as predictions_df\n",
    "predictions_df = raw_df.copy()\n",
    "# Add a class column with the labels to the predictions_df DataFrame\n",
    "predictions_df['predict'] = predict\n",
    "predictions_df.head()"
   ]
  },
  {
   "cell_type": "code",
   "execution_count": null,
   "id": "a8a54256-09f0-42c7-bd09-f70f22b54c08",
   "metadata": {},
   "outputs": [],
   "source": [
    "# Plot the clusters - Area & Temp\n",
    "predictions_df.hvplot.scatter(\n",
    "    x=\"Area (mi^2)\",\n",
    "    y=\"Monthly Average Mean Temperature (degF)\",\n",
    "    by=\"predict\"\n",
    ").opts(yformatter=\"%.0f\")"
   ]
  },
  {
   "cell_type": "code",
   "execution_count": null,
   "id": "1b9a9582-1534-417f-b611-125e0c81e153",
   "metadata": {},
   "outputs": [],
   "source": [
    "# Plot the clusters - Area & Precip\n",
    "predictions_df.hvplot.scatter(\n",
    "    x=\"Area (mi^2)\",\n",
    "    y=\"Monthly Total Precipitation (in)\",\n",
    "    by=\"predict\"\n",
    ").opts(yformatter=\"%.0f\")"
   ]
  },
  {
   "cell_type": "code",
   "execution_count": null,
   "id": "10dc587c-b090-4af7-a5be-2c8455d20de4",
   "metadata": {},
   "outputs": [],
   "source": [
    "# Plot the clusters - Area & Snow\n",
    "predictions_df.hvplot.scatter(\n",
    "    x=\"Area (mi^2)\",\n",
    "    y=\"Monthly Total Snowfall (in)\",\n",
    "    by=\"predict\"\n",
    ").opts(yformatter=\"%.0f\")"
   ]
  },
  {
   "cell_type": "code",
   "execution_count": null,
   "id": "9c260a48-8d4c-468c-8101-7ec60fe9f93e",
   "metadata": {},
   "outputs": [],
   "source": [
    "# Plot the clusters - Height & Temp\n",
    "predictions_df.hvplot.scatter(\n",
    "    x=\"Height (ft)\",\n",
    "    y=\"Monthly Average Mean Temperature (degF)\",\n",
    "    by=\"predict\"\n",
    ").opts(yformatter=\"%.0f\")"
   ]
  },
  {
   "cell_type": "code",
   "execution_count": null,
   "id": "8f60d6fa-fef5-4747-90a8-22c0d407a82a",
   "metadata": {},
   "outputs": [],
   "source": [
    "# Plot the clusters - Height & Precip\n",
    "predictions_df.hvplot.scatter(\n",
    "    x=\"Height (ft)\",\n",
    "    y=\"Monthly Total Precipitation (in)\",\n",
    "    by=\"predict\"\n",
    ").opts(yformatter=\"%.0f\")"
   ]
  },
  {
   "cell_type": "code",
   "execution_count": null,
   "id": "3a10fb1b-6047-46bf-a1d2-e4ba5605005b",
   "metadata": {},
   "outputs": [],
   "source": [
    "# Plot the clusters - Height & Snow\n",
    "predictions_df.hvplot.scatter(\n",
    "    x=\"Height (ft)\",\n",
    "    y=\"Monthly Total Snowfall (in)\",\n",
    "    by=\"predict\"\n",
    ").opts(yformatter=\"%.0f\")"
   ]
  },
  {
   "cell_type": "code",
   "execution_count": null,
   "id": "fd35934b-1f00-47c5-abe7-5d5421843578",
   "metadata": {},
   "outputs": [],
   "source": [
    "# Plot the clusters - Length & Temp\n",
    "predictions_df.hvplot.scatter(\n",
    "    x=\"Length (ft)\",\n",
    "    y=\"Monthly Average Mean Temperature (degF)\",\n",
    "    by=\"predict\"\n",
    ").opts(yformatter=\"%.0f\")"
   ]
  },
  {
   "cell_type": "code",
   "execution_count": null,
   "id": "f9611738-82fd-41e6-9338-6165069f6b12",
   "metadata": {},
   "outputs": [],
   "source": [
    "# Plot the clusters - Length & Precip\n",
    "predictions_df.hvplot.scatter(\n",
    "    x=\"Length (ft)\",\n",
    "    y=\"Monthly Total Precipitation (in)\",\n",
    "    by=\"predict\"\n",
    ").opts(yformatter=\"%.0f\")"
   ]
  },
  {
   "cell_type": "code",
   "execution_count": null,
   "id": "2698e41d-6e70-4162-b465-bb6046b1026a",
   "metadata": {},
   "outputs": [],
   "source": [
    "# Plot the clusters - Length & Snow\n",
    "predictions_df.hvplot.scatter(\n",
    "    x=\"Length (ft)\",\n",
    "    y=\"Monthly Total Snowfall (in)\",\n",
    "    by=\"predict\"\n",
    ").opts(yformatter=\"%.0f\")"
   ]
  },
  {
   "cell_type": "code",
   "execution_count": null,
   "id": "9c425e21-6f55-4e98-8617-e8400bd2a0d8",
   "metadata": {},
   "outputs": [],
   "source": [
    "#optimizing the model: removing the values which appear to be outliers\n",
    "df2 = raw_df[raw_df['Area (mi^2)'] <= 600]\n",
    "df2.shape"
   ]
  },
  {
   "cell_type": "code",
   "execution_count": null,
   "id": "d3c41077-ba93-413f-be54-cd64330961a1",
   "metadata": {},
   "outputs": [],
   "source": [
    "# Use the StandardScaler module and fit_transform function to \n",
    "# scale all columns with numerical values\n",
    "df2_scaled = StandardScaler().fit_transform(df2[['Year','Monthly Average Mean Temperature (degF)', 'Monthly Total Precipitation (in)', 'Monthly Total Snowfall (in)', 'Area (mi^2)', 'Height (ft)', 'Length (ft)']])\n",
    "\n",
    "# Diplay the first three rows of the scaled data\n",
    "df2_scaled[0:3]"
   ]
  },
  {
   "cell_type": "code",
   "execution_count": null,
   "id": "73acace3-dd34-46d6-84fe-80f64ec3b1d3",
   "metadata": {},
   "outputs": [],
   "source": [
    "#computing intertia for all k values for use in elbow graphing\n",
    "inertia = []\n",
    "k = list(range(1, 11))\n",
    "for i in k:\n",
    "    k_model = KMeans(n_clusters=i, random_state=1)\n",
    "    k_model.fit(df2_scaled)\n",
    "    inertia.append(k_model.inertia_)\n",
    "elbow_data = {\"k\": k, \"inertia\": inertia}\n",
    "elbow_df = pd.DataFrame(elbow_data)\n",
    "elbow_df.head()"
   ]
  },
  {
   "cell_type": "code",
   "execution_count": null,
   "id": "a4fac0f2-0689-4042-9285-101b34446886",
   "metadata": {},
   "outputs": [],
   "source": [
    "#plotting the elbow curve\n",
    "elbow_df.hvplot.line(\n",
    "    x=\"k\", \n",
    "    y=\"inertia\",\n",
    "    title=\"Elbow Curve\",\n",
    "    xticks=k\n",
    ")"
   ]
  },
  {
   "cell_type": "code",
   "execution_count": null,
   "id": "4c7c16ed-5dd7-451f-bdbb-84a1d3c4c567",
   "metadata": {},
   "outputs": [],
   "source": [
    "# Define the model with the lower value of k clusters\n",
    "# Use a random_state of 1 to generate the model\n",
    "model = KMeans(n_clusters=5, random_state=1)\n",
    "# Fit the model\n",
    "model.fit(df2)\n",
    "# Make predictions\n",
    "predict = model.predict(df2)\n",
    "# Create a copy of the DataFrame and name it as predictions_df\n",
    "predictions_df = df2.copy()\n",
    "# Add a class column with the labels to the predictions_df DataFrame\n",
    "predictions_df['predict'] = predict\n",
    "predictions_df.head()"
   ]
  },
  {
   "cell_type": "code",
   "execution_count": null,
   "id": "5b721d01-6716-495c-99c6-c537027ae62d",
   "metadata": {},
   "outputs": [],
   "source": [
    "# Plot the clusters - Area & Temp\n",
    "predictions_df.hvplot.scatter(\n",
    "    x=\"Area (mi^2)\",\n",
    "    y=\"Monthly Average Mean Temperature (degF)\",\n",
    "    by=\"predict\"\n",
    ").opts(yformatter=\"%.0f\")"
   ]
  },
  {
   "cell_type": "code",
   "execution_count": null,
   "id": "3e0f11c6-634d-4a5f-8b14-8fda978a296c",
   "metadata": {},
   "outputs": [],
   "source": [
    "# Plot the clusters - Area & Precip\n",
    "predictions_df.hvplot.scatter(\n",
    "    x=\"Area (mi^2)\",\n",
    "    y=\"Monthly Total Precipitation (in)\",\n",
    "    by=\"predict\"\n",
    ").opts(yformatter=\"%.0f\")"
   ]
  },
  {
   "cell_type": "code",
   "execution_count": null,
   "id": "862e4265-f456-43dd-a4aa-8e1c3f5c0fd3",
   "metadata": {},
   "outputs": [],
   "source": [
    "# Plot the clusters - Area & Snow\n",
    "predictions_df.hvplot.scatter(\n",
    "    x=\"Area (mi^2)\",\n",
    "    y=\"Monthly Total Snowfall (in)\",\n",
    "    by=\"predict\"\n",
    ").opts(yformatter=\"%.0f\")"
   ]
  },
  {
   "cell_type": "code",
   "execution_count": null,
   "id": "0df01994-eb05-45da-9a6f-6eb5cd518ec3",
   "metadata": {},
   "outputs": [],
   "source": [
    "# Plot the clusters - Height & Temp\n",
    "predictions_df.hvplot.scatter(\n",
    "    x=\"Height (ft)\",\n",
    "    y=\"Monthly Average Mean Temperature (degF)\",\n",
    "    by=\"predict\"\n",
    ").opts(yformatter=\"%.0f\")"
   ]
  },
  {
   "cell_type": "code",
   "execution_count": null,
   "id": "f81a8824-17cc-45b8-80b3-f9d2bf73b7cb",
   "metadata": {},
   "outputs": [],
   "source": [
    "# Plot the clusters - Height & Precip\n",
    "predictions_df.hvplot.scatter(\n",
    "    x=\"Height (ft)\",\n",
    "    y=\"Monthly Total Precipitation (in)\",\n",
    "    by=\"predict\"\n",
    ").opts(yformatter=\"%.0f\")"
   ]
  },
  {
   "cell_type": "code",
   "execution_count": null,
   "id": "667e4ade-80fc-402e-8176-fbaab1240820",
   "metadata": {},
   "outputs": [],
   "source": [
    "# Plot the clusters - Height & Snow\n",
    "predictions_df.hvplot.scatter(\n",
    "    x=\"Height (ft)\",\n",
    "    y=\"Monthly Total Snowfall (in)\",\n",
    "    by=\"predict\"\n",
    ").opts(yformatter=\"%.0f\")"
   ]
  },
  {
   "cell_type": "code",
   "execution_count": null,
   "id": "68c11477-6619-4b3e-b8ea-33904f574724",
   "metadata": {},
   "outputs": [],
   "source": [
    "# Plot the clusters - Length & Temp\n",
    "predictions_df.hvplot.scatter(\n",
    "    x=\"Length (ft)\",\n",
    "    y=\"Monthly Average Mean Temperature (degF)\",\n",
    "    by=\"predict\"\n",
    ").opts(yformatter=\"%.0f\")"
   ]
  },
  {
   "cell_type": "code",
   "execution_count": null,
   "id": "d97dd159-df6a-461d-b6b4-8d553fa4e95f",
   "metadata": {},
   "outputs": [],
   "source": [
    "# Plot the clusters - Length & Precip\n",
    "predictions_df.hvplot.scatter(\n",
    "    x=\"Length (ft)\",\n",
    "    y=\"Monthly Total Precipitation (in)\",\n",
    "    by=\"predict\"\n",
    ").opts(yformatter=\"%.0f\")"
   ]
  },
  {
   "cell_type": "code",
   "execution_count": null,
   "id": "bc5c486c-fe53-4718-ba3b-387c5c6d9dbe",
   "metadata": {},
   "outputs": [],
   "source": [
    "# Plot the clusters - Length & Snow\n",
    "predictions_df.hvplot.scatter(\n",
    "    x=\"Length (ft)\",\n",
    "    y=\"Monthly Total Snowfall (in)\",\n",
    "    by=\"predict\"\n",
    ").opts(yformatter=\"%.0f\")"
   ]
  },
  {
   "cell_type": "code",
   "execution_count": null,
   "id": "a99eedff-6adb-47b5-9dd6-8d302bc68c5d",
   "metadata": {},
   "outputs": [],
   "source": [
    "#none of this data appears useful. from here we tried an SML."
   ]
  },
  {
   "cell_type": "code",
   "execution_count": null,
   "id": "c24d5257-d86d-4364-bd2b-850cacb331d8",
   "metadata": {},
   "outputs": [],
   "source": [
    "#.."
   ]
  },
  {
   "cell_type": "code",
   "execution_count": null,
   "id": "2aa481c2-2908-473f-b097-0a42f6c80668",
   "metadata": {},
   "outputs": [],
   "source": []
  }
 ],
 "metadata": {
  "kernelspec": {
   "display_name": "Python 3 (ipykernel)",
   "language": "python",
   "name": "python3"
  },
  "language_info": {
   "codemirror_mode": {
    "name": "ipython",
    "version": 3
   },
   "file_extension": ".py",
   "mimetype": "text/x-python",
   "name": "python",
   "nbconvert_exporter": "python",
   "pygments_lexer": "ipython3",
   "version": "3.10.15"
  }
 },
 "nbformat": 4,
 "nbformat_minor": 5
}
