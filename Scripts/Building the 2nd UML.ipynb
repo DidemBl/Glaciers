{
 "cells": [
  {
   "cell_type": "code",
   "execution_count": null,
   "id": "1bb887dc-3f19-4218-add4-5488a0554489",
   "metadata": {},
   "outputs": [],
   "source": [
    "import pandas as pd\n",
    "import hvplot.pandas\n",
    "from pathlib import Path\n",
    "from sklearn.cluster import KMeans\n",
    "from sklearn.preprocessing import StandardScaler"
   ]
  },
  {
   "cell_type": "code",
   "execution_count": null,
   "id": "9cb82f42-00aa-4bd0-8a94-359ab6cb1b19",
   "metadata": {},
   "outputs": [],
   "source": [
    "#Connect to the database\n",
    "conn_string = \"host='localhost' dbname='glacier_data' user='postgres' password='REDACTED'\"\n",
    "#password has been removed for security reasons\n",
    "conn = psycopg2.connect(conn_string)\n",
    "print(\"Database opened successfully\")\n",
    "cursor = conn.cursor();\n",
    "query = 'select * from yourdatabase'\n",
    "cursor.execute(query)\n",
    "colnames = [desc[0] for desc in cursor.description]\n",
    "df = pd.DataFrame(cursor.fetchall(), columns=colnames)\n",
    "cursor.close()\n",
    "print('Database closed successfully!')"
   ]
  },
  {
   "cell_type": "code",
   "execution_count": null,
   "id": "5ab3919b-e543-4286-bfc8-74a278af6b3f",
   "metadata": {},
   "outputs": [],
   "source": [
    "raw_df = pd.read_csv(Path(\"../Data/SecUMLprep.csv\"))\n",
    "raw_df.head()"
   ]
  },
  {
   "cell_type": "code",
   "execution_count": null,
   "id": "fe620f2e-8657-4063-8079-60bd6ab670f1",
   "metadata": {},
   "outputs": [],
   "source": [
    "raw_df = raw_df.dropna()\n",
    "# Use the StandardScaler module and fit_transform function to \n",
    "# scale all columns with numerical values\n",
    "raw_df_scaled = StandardScaler().fit_transform(raw_df[['Lat','Lon','Monthly Average Mean Temperature (degF)', 'Monthly Total Precipitation (in)', 'Monthly Total Snowfall (in)', 'Area (mi^2)_1986', 'Area (mi^2)_2020', 'Area Shrinkage (mi^2)', 'Height (ft)', 'Length (ft)']])\n",
    "\n",
    "# Diplay the first three rows of the scaled data\n",
    "raw_df_scaled[0:3]"
   ]
  },
  {
   "cell_type": "code",
   "execution_count": null,
   "id": "dd22e9ad-9875-447c-b491-e71fe44483fa",
   "metadata": {},
   "outputs": [],
   "source": [
    "#computing intertia for all k values for use in elbow graphing\n",
    "inertia = []\n",
    "k = list(range(1, 11))\n",
    "for i in k:\n",
    "    k_model = KMeans(n_clusters=i, random_state=1)\n",
    "    k_model.fit(raw_df_scaled)\n",
    "    inertia.append(k_model.inertia_)\n",
    "elbow_data = {\"k\": k, \"inertia\": inertia}\n",
    "elbow_df = pd.DataFrame(elbow_data)\n",
    "elbow_df.head()"
   ]
  },
  {
   "cell_type": "code",
   "execution_count": null,
   "id": "61e46b96-c97f-413a-a7f9-bb585f15771f",
   "metadata": {},
   "outputs": [],
   "source": [
    "#plotting the elbow curve\n",
    "elbow_df.hvplot.line(\n",
    "    x=\"k\", \n",
    "    y=\"inertia\",\n",
    "    title=\"Elbow Curve\",\n",
    "    xticks=k\n",
    ")"
   ]
  },
  {
   "cell_type": "code",
   "execution_count": null,
   "id": "d278d6a3-0bb9-483b-8e38-63a4e1916c83",
   "metadata": {},
   "outputs": [],
   "source": [
    "# Define the model with the lower value of k clusters\n",
    "# Use a random_state of 1 to generate the model\n",
    "model = KMeans(n_clusters=4, random_state=1)\n",
    "# Fit the model\n",
    "model.fit(raw_df)\n",
    "# Make predictions\n",
    "predict = model.predict(raw_df)\n",
    "# Create a copy of the DataFrame and name it as predictions_df\n",
    "predictions_df = raw_df.copy()\n",
    "# Add a class column with the labels to the predictions_df DataFrame\n",
    "predictions_df['predict'] = predict\n",
    "predictions_df.head()"
   ]
  },
  {
   "cell_type": "code",
   "execution_count": null,
   "id": "a8a54256-09f0-42c7-bd09-f70f22b54c08",
   "metadata": {},
   "outputs": [],
   "source": [
    "# Plot the clusters - Area Loss & Temp\n",
    "predictions_df.hvplot.scatter(\n",
    "    x=\"Area Shrinkage (mi^2)\",\n",
    "    y=\"Monthly Average Mean Temperature (degF)\",\n",
    "    by=\"predict\"\n",
    ").opts(yformatter=\"%.0f\")"
   ]
  },
  {
   "cell_type": "code",
   "execution_count": null,
   "id": "1b9a9582-1534-417f-b611-125e0c81e153",
   "metadata": {},
   "outputs": [],
   "source": [
    "# Plot the clusters - Area Loss & Precip\n",
    "predictions_df.hvplot.scatter(\n",
    "    x=\"Area Shrinkage (mi^2)\",\n",
    "    y=\"Monthly Total Precipitation (in)\",\n",
    "    by=\"predict\"\n",
    ").opts(yformatter=\"%.0f\")"
   ]
  },
  {
   "cell_type": "code",
   "execution_count": null,
   "id": "10dc587c-b090-4af7-a5be-2c8455d20de4",
   "metadata": {},
   "outputs": [],
   "source": [
    "# Plot the clusters - Area Loss & Snow\n",
    "predictions_df.hvplot.scatter(\n",
    "    x=\"Area Shrinkage (mi^2)\",\n",
    "    y=\"Monthly Total Snowfall (in)\",\n",
    "    by=\"predict\"\n",
    ").opts(yformatter=\"%.0f\")"
   ]
  },
  {
   "cell_type": "code",
   "execution_count": null,
   "id": "9c425e21-6f55-4e98-8617-e8400bd2a0d8",
   "metadata": {},
   "outputs": [],
   "source": [
    "#length appears to disproportionately affect this\n",
    "#optimizing attempt: comparing only area and weather data\n",
    "areaonly=raw_df[['Monthly Average Mean Temperature (degF)','Monthly Total Precipitation (in)', 'Monthly Total Snowfall (in)','Area (mi^2)_1986','Area (mi^2)_2020','Area Shrinkage (mi^2)']]\n",
    "areaonly.head()"
   ]
  },
  {
   "cell_type": "code",
   "execution_count": null,
   "id": "79151fb1-1408-427d-b509-2fa0afc7145f",
   "metadata": {},
   "outputs": [],
   "source": [
    "# Use the StandardScaler module and fit_transform function to \n",
    "# scale all columns with numerical values\n",
    "areaonly_scaled = StandardScaler().fit_transform(areaonly[['Monthly Average Mean Temperature (degF)', 'Monthly Total Precipitation (in)', 'Monthly Total Snowfall (in)', 'Area (mi^2)_1986', 'Area (mi^2)_2020', 'Area Shrinkage (mi^2)']])\n",
    "\n",
    "# Diplay the first three rows of the scaled data\n",
    "areaonly_scaled[0:3]"
   ]
  },
  {
   "cell_type": "code",
   "execution_count": null,
   "id": "73acace3-dd34-46d6-84fe-80f64ec3b1d3",
   "metadata": {},
   "outputs": [],
   "source": [
    "#computing intertia for all k values for use in elbow graphing\n",
    "inertia = []\n",
    "k = list(range(1, 11))\n",
    "for i in k:\n",
    "    k_model2 = KMeans(n_clusters=i, random_state=1)\n",
    "    k_model2.fit(areaonly_scaled)\n",
    "    inertia.append(k_model.inertia_)\n",
    "elbow_data2 = {\"k\": k, \"inertia\": inertia}\n",
    "elbow_df2 = pd.DataFrame(elbow_data)\n",
    "elbow_df2.head()"
   ]
  },
  {
   "cell_type": "code",
   "execution_count": null,
   "id": "a4fac0f2-0689-4042-9285-101b34446886",
   "metadata": {},
   "outputs": [],
   "source": [
    "#plotting the elbow curve\n",
    "elbow_df2.hvplot.line(\n",
    "    x=\"k\", \n",
    "    y=\"inertia\",\n",
    "    title=\"Elbow Curve\",\n",
    "    xticks=k\n",
    ")"
   ]
  },
  {
   "cell_type": "code",
   "execution_count": null,
   "id": "4c7c16ed-5dd7-451f-bdbb-84a1d3c4c567",
   "metadata": {},
   "outputs": [],
   "source": [
    "# Define the model with the lower value of k clusters\n",
    "# Use a random_state of 1 to generate the model\n",
    "model = KMeans(n_clusters=4, random_state=1)\n",
    "# Fit the model\n",
    "model.fit(areaonly)\n",
    "# Make predictions\n",
    "predict = model.predict(areaonly)\n",
    "# Create a copy of the DataFrame and name it as predictions_df\n",
    "predictions_df2 = areaonly.copy()\n",
    "# Add a class column with the labels to the predictions_df DataFrame\n",
    "predictions_df2['predict'] = predict\n",
    "predictions_df2.head()"
   ]
  },
  {
   "cell_type": "code",
   "execution_count": null,
   "id": "a99eedff-6adb-47b5-9dd6-8d302bc68c5d",
   "metadata": {},
   "outputs": [],
   "source": [
    "# Plot the clusters - Area Loss & Temp\n",
    "predictions_df2.hvplot.scatter(\n",
    "    x=\"Area Shrinkage (mi^2)\",\n",
    "    y=\"Monthly Average Mean Temperature (degF)\",\n",
    "    by=\"predict\"\n",
    ").opts(yformatter=\"%.0f\")"
   ]
  },
  {
   "cell_type": "code",
   "execution_count": null,
   "id": "c24d5257-d86d-4364-bd2b-850cacb331d8",
   "metadata": {},
   "outputs": [],
   "source": [
    "# Plot the clusters - Area Loss & Precip\n",
    "predictions_df2.hvplot.scatter(\n",
    "    x=\"Area Shrinkage (mi^2)\",\n",
    "    y=\"Monthly Total Precipitation (in)\",\n",
    "    by=\"predict\"\n",
    ").opts(yformatter=\"%.0f\")"
   ]
  },
  {
   "cell_type": "code",
   "execution_count": null,
   "id": "f147d7c6-3fd9-4a6b-8525-5750e2a905a2",
   "metadata": {},
   "outputs": [],
   "source": [
    "# Plot the clusters - Area Loss & Snow\n",
    "predictions_df2.hvplot.scatter(\n",
    "    x=\"Area Shrinkage (mi^2)\",\n",
    "    y=\"Monthly Total Snowfall (in)\",\n",
    "    by=\"predict\"\n",
    ").opts(yformatter=\"%.0f\")"
   ]
  },
  {
   "cell_type": "code",
   "execution_count": null,
   "id": "101776d7-4097-472a-b1ca-ce042f88b112",
   "metadata": {},
   "outputs": [],
   "source": [
    "#Maybe initial loss has an impact?\n",
    "# Plot the clusters - Area Loss & Initial Area\n",
    "predictions_df2.hvplot.scatter(\n",
    "    x=\"Area Shrinkage (mi^2)\",\n",
    "    y=\"Area (mi^2)_1986\",\n",
    "    by=\"predict\"\n",
    ").opts(yformatter=\"%.0f\")"
   ]
  },
  {
   "cell_type": "code",
   "execution_count": null,
   "id": "f1421924-6fc9-44ba-80be-1b3953024fc4",
   "metadata": {},
   "outputs": [],
   "source": [
    "#that is a much more useful plot\n",
    "#prior to dropping length & height-\n",
    "predictions_df.hvplot.scatter(\n",
    "    x=\"Area Shrinkage (mi^2)\",\n",
    "    y=\"Area (mi^2)_1986\",\n",
    "    by=\"predict\"\n",
    ").opts(yformatter=\"%.0f\")"
   ]
  },
  {
   "cell_type": "code",
   "execution_count": null,
   "id": "c03dfe21-9828-4305-9e2a-4c2f21e63ed7",
   "metadata": {},
   "outputs": [],
   "source": [
    "#in both cases, it appears glaciers appear to be shrinking relative to their size; larger glaciers are shrinking faster.\n",
    "#however, as evidenced by the horizontinality of the data, this is just one factor"
   ]
  },
  {
   "cell_type": "code",
   "execution_count": null,
   "id": "f4f126c4-0a7e-4830-bd7a-0df7d9d75d72",
   "metadata": {},
   "outputs": [],
   "source": [
    "#.."
   ]
  },
  {
   "cell_type": "code",
   "execution_count": null,
   "id": "e508dda3-ab0d-472d-b81a-46815532ec44",
   "metadata": {},
   "outputs": [],
   "source": []
  },
  {
   "cell_type": "code",
   "execution_count": null,
   "id": "676c342a-d91f-43ab-b9d2-c5f918fbf8f9",
   "metadata": {},
   "outputs": [],
   "source": []
  }
 ],
 "metadata": {
  "kernelspec": {
   "display_name": "Python 3 (ipykernel)",
   "language": "python",
   "name": "python3"
  },
  "language_info": {
   "codemirror_mode": {
    "name": "ipython",
    "version": 3
   },
   "file_extension": ".py",
   "mimetype": "text/x-python",
   "name": "python",
   "nbconvert_exporter": "python",
   "pygments_lexer": "ipython3",
   "version": "3.10.15"
  }
 },
 "nbformat": 4,
 "nbformat_minor": 5
}
